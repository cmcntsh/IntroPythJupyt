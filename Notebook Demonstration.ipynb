{
 "cells": [
  {
   "cell_type": "code",
   "execution_count": null,
   "metadata": {},
   "outputs": [],
   "source": [
    "pwd"
   ]
  },
  {
   "cell_type": "code",
   "execution_count": null,
   "metadata": {},
   "outputs": [],
   "source": [
    "print(\"Hello, World!\")"
   ]
  },
  {
   "cell_type": "markdown",
   "metadata": {},
   "source": [
    "# Add markdown and plain text to document\n",
    "Cell - Cell Type - Markdown\n",
    "* Enter the text you want with any markdown notation.\n",
    "* Run the cell.\n",
    "\n",
    "This cell converted to text.\n",
    "Double click on the text to edit."
   ]
  },
  {
   "cell_type": "markdown",
   "metadata": {},
   "source": [
    "# Python Documentation\n",
    "Python site: https://www.python.org/ <br>\n",
    "Documentation: https://docs.python.org/3/ <br>\n",
    "Python Standard Library: https://docs.python.org/3/library/index.html <br>\n",
    "Introduction about the standard library: https://docs.python.org/3/library/intro.html <br>\n",
    "These modules are used using the import command. <br>\n",
    "I haven't looked through all of them myself. There are a lot. (I quit counting at a hundred.) Most of the modules I'm familiar with I ran across while working on solving specific problems. <br>\n",
    "Sometimes it helps to look for tutorials on specific modules \"python re module tutorial\" <br>"
   ]
  },
  {
   "cell_type": "markdown",
   "metadata": {},
   "source": [
    "# Working with Files Examples"
   ]
  },
  {
   "cell_type": "code",
   "execution_count": null,
   "metadata": {},
   "outputs": [],
   "source": [
    "# Selecting files\n",
    "\n",
    "import tkinter as tk\n",
    "from tkinter import filedialog\n",
    "\n",
    "root = tk.Tk()\n",
    "root.lift()\n",
    "root.withdraw()\n",
    "\n",
    "print('Opening dialogue box for file selection. Please choose a file.')\n",
    "\n",
    "file_path = filedialog.askopenfilename()\n",
    "\n",
    "print('File selected:', file_path)\n"
   ]
  },
  {
   "cell_type": "code",
   "execution_count": null,
   "metadata": {},
   "outputs": [],
   "source": [
    "# Split file name and file extension\n",
    "\n",
    "import os\n",
    "\n",
    "parts = os.path.splitext(file_path)\n",
    "print(parts)\n",
    "var = (os.path.basename(parts[0]), parts[1])\n",
    "print (var)"
   ]
  },
  {
   "cell_type": "code",
   "execution_count": null,
   "metadata": {},
   "outputs": [],
   "source": [
    "# Selecting directories\n",
    "\n",
    "import tkinter as tk\n",
    "from tkinter import filedialog\n",
    "\n",
    "root = tk.Tk()\n",
    "root.lift()\n",
    "root.withdraw()\n",
    "\n",
    "print('Opening dialogue box for folder selection. Please choose a folder.')\n",
    "\n",
    "file_path = filedialog.askdirectory()\n",
    "\n",
    "print('Folder selected:', file_path)"
   ]
  },
  {
   "cell_type": "code",
   "execution_count": null,
   "metadata": {},
   "outputs": [],
   "source": [
    "# Save a sample csv using path and the current date in name of file.\n",
    "\n",
    "# Part of this example comes from https://www.geeksforgeeks.org/python-save-list-to-csv/\n",
    "# Note how I had to adjust the code a bit because it was an old example.\n",
    "# You'll see this frequently when looking up examples in Python.\n",
    "# I found some help on StackOverflow https://stackoverflow.com/questions/3348460/csv-file-written-with-python-has-blank-lines-between-each-row\n",
    "\n",
    "import csv\n",
    "from datetime import datetime\n",
    "\n",
    "# field names \n",
    "fields = ['Name', 'Branch', 'Year', 'CGPA'] \n",
    "    \n",
    "# data rows of csv file \n",
    "rows = [ ['Nikhil', 'COE', '2', '9.0'], \n",
    "         ['Sanchit', 'COE', '2', '9.1'], \n",
    "         ['Aditya', 'IT', '2', '9.3'], \n",
    "         ['Sagar', 'SE', '1', '9.5'], \n",
    "         ['Prateek', 'MCE', '3', '7.8'], \n",
    "         ['Sahil', 'EP', '2', '9.1']] \n",
    "\n",
    "# get the current time to name file\n",
    "now = datetime.now()\n",
    "\n",
    "# YYYY-mm-dd-H-M-S\n",
    "dt_string = now.strftime(\"%Y-%m-%d-%H-%M-%S\")\n",
    "\n",
    "\n",
    "\n",
    "with open(file_path + '/_SampleFile_' + dt_string + '.csv', 'w', newline='') as f:\n",
    "      \n",
    "    # using csv.writer method from CSV package\n",
    "    write = csv.writer(f)\n",
    "      \n",
    "    write.writerow(fields)\n",
    "    write.writerows(rows)"
   ]
  }
 ],
 "metadata": {
  "kernelspec": {
   "display_name": "Python 3",
   "language": "python",
   "name": "python3"
  },
  "language_info": {
   "codemirror_mode": {
    "name": "ipython",
    "version": 3
   },
   "file_extension": ".py",
   "mimetype": "text/x-python",
   "name": "python",
   "nbconvert_exporter": "python",
   "pygments_lexer": "ipython3",
   "version": "3.8.5"
  }
 },
 "nbformat": 4,
 "nbformat_minor": 4
}
